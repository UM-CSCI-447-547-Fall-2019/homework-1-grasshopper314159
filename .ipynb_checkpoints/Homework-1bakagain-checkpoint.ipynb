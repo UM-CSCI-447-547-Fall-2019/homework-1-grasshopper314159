{
 "cells": [
  {
   "cell_type": "markdown",
   "metadata": {},
   "source": [
    "# Homework 1: Reading data and regression\n",
    "## Due September 5th\n",
    "\n",
    "In class we've been working on developing the tools for linear regression.  In this homework, we'll use those tools to show that one of the original 'big data' problems can be solved quite credibly with ordinary least squares.  Note that this exercise is primarily intended to do two things: 1) provide you with some practice gathering data, and 2) evaluate your ability to reason somewhat abstractly about models.  With respect to the second point, it is in your grade's interest to provide complete and well-reasoned answers to narrative questions posed.  A correct answer can be awarded very few points if its reasoning is absent or unclear, and an incorrect answer can be awarded full points if it is well argued.   \n",
    "\n",
    "Please turn in your work via github classroom.\n",
    "\n",
    "## The big one\n",
    "If you've ever lived in an area prone to seismic activity, you know that people are always a little apprehensive about *the big one*, that giant earthquake (Magnitude greater than 7) that is going to break the pots and collapse the overpasses.  However, the big one rarely happens... until it does.  What happens more frequently is smaller earthquakes.  And even more frequently than that, even smaller earthquakes.  In fact, it's long been understood that earthquake frequency has an inverse relationship with magnitude.  Here, we're going to quantify that relationship for the west coast of the US.  \n",
    "\n",
    "## Data wrangling\n",
    "The first thing that we'll need to do is to aquire a dataset that can help us say something about earthquake frequency.  Fortunately, the United States Geologic Survey keeps such a database.  \n",
    "\n",
    "First, navigate to https://earthquake.usgs.gov/earthquakes/search/.  This is the USGS' central repository for earthquake data.  We'll be interested in data from the last twenty years.  Enter the appropriate date.  Next, we're interested in data from the west coast of the lower 48.  Use the Custom Geographic Region button on the right side of the page, followed by the Draw Rectangle on the Map button.  Draw a rectangle around the west coast, from the Canadian to Mexican border.  Next, open the Output Options tab and select .csv (comma separated values, a plain text format).  Finally, under Limit Results, enter 19999 (the site will throw an error if you make this value bigger).  This series of commands will deliver the ~20k most recent earthquakes of all sizes to occur in this region of the world.  It may take a moment for their server to pull your query together. Download the file.\n",
    "\n",
    "Next, import the data into ipython.  This is easily done with [Pandas' read_csv function](https://pandas.pydata.org/pandas-docs/stable/reference/api/pandas.read_csv.html)."
   ]
  },
  {
   "cell_type": "code",
   "execution_count": 1,
   "metadata": {},
   "outputs": [],
   "source": [
    "# Use pandas to import the earthquake data file here\n",
    "import pandas as pd\n",
    "import numpy as np\n",
    "myData = pd.read_csv('hw1_earthquakes.csv') \n"
   ]
  },
  {
   "cell_type": "markdown",
   "metadata": {},
   "source": [
    "Interrogate the Pandas dataframe for the available fields using its built in method 'keys'\n"
   ]
  },
  {
   "cell_type": "code",
   "execution_count": 2,
   "metadata": {},
   "outputs": [
    {
     "data": {
      "text/plain": [
       "Index(['time', 'latitude', 'longitude', 'depth', 'mag', 'magType', 'nst',\n",
       "       'gap', 'dmin', 'rms', 'net', 'id', 'updated', 'place', 'type',\n",
       "       'horizontalError', 'depthError', 'magError', 'magNst', 'status',\n",
       "       'locationSource', 'magSource'],\n",
       "      dtype='object')"
      ]
     },
     "execution_count": 2,
     "metadata": {},
     "output_type": "execute_result"
    }
   ],
   "source": [
    "myData.keys()"
   ]
  },
  {
   "cell_type": "markdown",
   "metadata": {},
   "source": [
    "We're primarily interested in determining the relationship between relative frequency and magnitude.  Extract the magnitude variable from the pandas data frame using the 'mag' key.  \n",
    "\n",
    "Next, you'll need to determine the number of earthquakes that occured in the data as a function of magnitude.  This is easily done by deciding on a set of bins, and then counting the number of items in each bin.  This is also known as a [histogram](https://docs.scipy.org/doc/numpy/reference/generated/numpy.histogram.html), and is easily computed using either numpy or matplotlib.  You'll want to use a fairly large number of bins, say 50 (equally spaced).  *Note that the histogram function provided by either of the above libraries returns total counts rather than relative frequencies: you'll need to compute relative frequencies by dividing the returned counts by the total number of earthquakes in the dataset.*"
   ]
  },
  {
   "cell_type": "code",
   "execution_count": 3,
   "metadata": {
    "scrolled": true
   },
   "outputs": [
    {
     "data": {
      "text/plain": [
       "<Figure size 400x300 with 1 Axes>"
      ]
     },
     "metadata": {},
     "output_type": "display_data"
    }
   ],
   "source": [
    "mag=myData['mag']\n",
    "#range=mag.max() - mag.min()\n",
    "import matplotlib.pyplot as plt\n",
    "from scipy import stats\n",
    "histo = stats.relfreq(mag, numbins=50)\n",
    "x = histo.lowerlimit + np.linspace(0, histo.binsize*histo.frequency.size,histo.frequency.size)\n",
    "fig = plt.figure(figsize=(4,3))\n",
    "ax = fig.add_subplot(1, 1, 1)\n",
    "ax.bar(x, histo.frequency, width=histo.binsize)\n",
    "ax.set_title('US West Coast Earthquakes by Magnitude 1999-2019\\nRelative Frequency')\n",
    "ax.set_xlim([x.min(), x.max()])\n",
    "plt.show()"
   ]
  },
  {
   "cell_type": "markdown",
   "metadata": {},
   "source": [
    "**(20 pts) Make a plot with bin centroids on the $x$-axis and relative frequency on the $y$-axis.  Based on your results, please provide a few sentences describing whether the model $y = w_0 + w_1 x$ is a good fit to the data, if $x$ represents earthquake magnitude and $y$ represents relative frequency.**\n",
    "\n",
    "!Answers go here\n",
    "<font color=green>\n",
    "**See above for the graph. The data is not linear, as the slope given by a tangent line at any point decreases as the value magnitude of the earthquake increases. To my eye, it looks like an exponential decay function would be a better model.**\n",
    "    </font>"
   ]
  },
  {
   "cell_type": "code",
   "execution_count": null,
   "metadata": {},
   "outputs": [],
   "source": []
  },
  {
   "cell_type": "markdown",
   "metadata": {},
   "source": [
    "As it turns out, a physical model that gives the predicted relative frequency of earthquakes of different magnitudes can be derived from physics, and is given by a so-called *power-law*\n",
    "$$\n",
    "y = ax^b\n",
    "$$\n",
    "**(20pts) If you wanted to directly fit this power-law model to these data, would you be able to use the linear regression code that we've already developed to do so?  If so, how?  If not, why not?**\n",
    "\n",
    "!Answers go here\n",
    "**No, the linear regression code will always produce a line, since we are just finding slope and intercept. Perhaps you could modify it to systematically try different different values of a and b in y = ax^b, and use the values that produce the least error. Then it wouldn't be linear regression though.**"
   ]
  },
  {
   "cell_type": "markdown",
   "metadata": {},
   "source": [
    "As it turns out, it is not possible to use linear regression to fit this model directly.  However, it can be done by using a clever transformation of the data.  **(20pts) Plot the base-10 logarithm of the event counts.  Now does a linear model seem like a good fit?  If the power law is a good fit to the untransformed data, why does it make sense that a linear model should fit the log-transformed data (HINT: take the logarithm of both sides of the power law)**\n",
    "\n",
    "**(UPDATE!)** I should have noted this before: The earthquake magnitude $x$ has *already* been log-transformed, which is to say that a magnitude 7 is 10 times more powerful than a magnitude 6.  The power law stated above applies to the earthquake strength prior to it having the logarithm taken.  As such, a more reasonable way to state the question would be as follows: A physical model that gives the predicted relative frequency of earthquakes of different magnitudes can be derived from physics and is given by a so-called *power-law*\n",
    "$$\n",
    "y = a P^b,\n",
    "$$\n",
    "where $P=10^x$. Show that taking the logarithm of both sides of this equation leads to a linear relationship between the earthquake magnitude $x$ and the log-frequency $\\text{log}_{10}(y)$. \n",
    "\n",
    "!Answers go here\n",
    "<font color=green>\n",
    "$$\n",
    "y = a P^b\n",
    "$$\n",
    "$$\n",
    "log(y) = log(a P^b)\n",
    "$$\n",
    "$$\n",
    "log(y) = log(a) + log(P^b)\n",
    "$$\n",
    "$$\n",
    "log(y) = log(a) + b log(P)\n",
    "$$\n",
    "$$\n",
    "log(y) = log(a) + x b log(10)\n",
    "$$\n",
    "$$\n",
    "log(y) = log(a) + x b\n",
    "$$\n",
    "$$\n",
    "log(y) = b x + log(a)\n",
    "$$\n",
    "**After taking the log of both sides, this is a linear equation with log(a) as the intercept and and b as the slope, so a linear model should fit, assuming the data does follow a power law.  See the cell below for the plot. _Note, I am using absolute counts, not relative frequency for the plot below._  Base 10 log of a value between zero and 1 gives negative numbers, which could be confusing to the viewer.**\n",
    "</font>"
   ]
  },
  {
   "cell_type": "code",
   "execution_count": 4,
   "metadata": {},
   "outputs": [
    {
     "data": {
      "text/plain": [
       "[]"
      ]
     },
     "execution_count": 4,
     "metadata": {},
     "output_type": "execute_result"
    },
    {
     "data": {
      "image/png": "[encoded data removed]",
      "text/plain": [
       "<Figure size 432x288 with 1 Axes>"
      ]
     },
     "metadata": {
      "needs_background": "light"
     },
     "output_type": "display_data"
    }
   ],
   "source": [
    "mag=myData['mag']\n",
    "import matplotlib.pyplot as plt\n",
    "import scipy\n",
    "counts, bins, patches = plt.hist(mag, 50, [mag.min(),mag.max()])\n",
    "plt.xlabel('Magnitude')\n",
    "plt.ylabel('Frequency')\n",
    "plt.title('US West Coast Earthquakes by Magnitude 1999-2019')\n",
    "plt.plot()"
   ]
  },
  {
   "cell_type": "code",
   "execution_count": 5,
   "metadata": {},
   "outputs": [
    {
     "data": {
      "text/plain": [
       "50"
      ]
     },
     "execution_count": 5,
     "metadata": {},
     "output_type": "execute_result"
    }
   ],
   "source": [
    "len(counts)"
   ]
  },
  {
   "cell_type": "code",
   "execution_count": 6,
   "metadata": {},
   "outputs": [
    {
     "data": {
      "text/plain": [
       "array([2.5  , 2.592, 2.684, 2.776, 2.868, 2.96 , 3.052, 3.144, 3.236,\n",
       "       3.328, 3.42 , 3.512, 3.604, 3.696, 3.788, 3.88 , 3.972, 4.064,\n",
       "       4.156, 4.248, 4.34 , 4.432, 4.524, 4.616, 4.708, 4.8  , 4.892,\n",
       "       4.984, 5.076, 5.168, 5.26 , 5.352, 5.444, 5.536, 5.628, 5.72 ,\n",
       "       5.812, 5.904, 5.996, 6.088, 6.18 , 6.272, 6.364, 6.456, 6.548,\n",
       "       6.64 , 6.732, 6.824, 6.916, 7.008, 7.1  ])"
      ]
     },
     "execution_count": 6,
     "metadata": {},
     "output_type": "execute_result"
    }
   ],
   "source": [
    "np.delete(bins, 0)\n",
    "np.resize(bins, 50)\n",
    "bins"
   ]
  },
  {
   "cell_type": "code",
   "execution_count": 7,
   "metadata": {},
   "outputs": [
    {
     "data": {
      "text/plain": [
       "51"
      ]
     },
     "execution_count": 7,
     "metadata": {},
     "output_type": "execute_result"
    }
   ],
   "source": [
    "len(bins)"
   ]
  },
  {
   "cell_type": "code",
   "execution_count": 8,
   "metadata": {},
   "outputs": [
    {
     "name": "stderr",
     "output_type": "stream",
     "text": [
      "C:\\CS\\Anaconda\\lib\\site-packages\\ipykernel_launcher.py:5: RuntimeWarning: divide by zero encountered in log10\n",
      "  \"\"\"\n"
     ]
    },
    {
     "data": {
      "text/plain": [
       "[]"
      ]
     },
     "execution_count": 8,
     "metadata": {},
     "output_type": "execute_result"
    },
    {
     "data": {
      "image/png": "[encoded data removed]",
      "text/plain": [
       "<Figure size 432x288 with 1 Axes>"
      ]
     },
     "metadata": {
      "needs_background": "light"
     },
     "output_type": "display_data"
    }
   ],
   "source": [
    "X = np.linspace(mag.min(), mag.max(), 50)\n",
    "plt.xlabel(\"Magnitude\")\n",
    "plt.ylabel(\"Frequencies (log10)\")\n",
    "plt.title('US West Coast Earthquakes by Magnitude 1999-2019')\n",
    "plt.scatter(x, np.log10(counts))\n",
    "\n",
    "plt.plot()\n"
   ]
  },
  {
   "cell_type": "markdown",
   "metadata": {},
   "source": [
    "Finally, **(40pts) use one of the methods that you developed for linear regression in class to fit a line to the log-transformed counts.  What is the slope of that line?  Is the model a good fit for all sizes of earthquake?**\n",
    "\n",
    "!Answers go here\n",
    "<font color=green>\n",
    "**The slope is -0.69.  The points representing earthquakes with a magnitude of (about) 6.4 and higher are farther from the line than eathwuakes with smaller maginitudes.  So the model is not great at predicting the frequency of large earthquakes.  This might be expected, since the number of large earthquakes is so small and small data sets don't predict the average very well.**\n",
    "    </font>"
   ]
  },
  {
   "cell_type": "code",
   "execution_count": 9,
   "metadata": {},
   "outputs": [
    {
     "data": {
      "text/plain": [
       "array([4.031e+03, 3.074e+03, 2.490e+03, 2.070e+03, 1.814e+03, 1.404e+03,\n",
       "       9.520e+02, 7.760e+02, 6.260e+02, 5.140e+02, 5.240e+02, 3.640e+02,\n",
       "       2.270e+02, 1.850e+02, 1.920e+02, 1.620e+02, 1.120e+02, 1.130e+02,\n",
       "       7.900e+01, 5.800e+01, 5.000e+01, 4.800e+01, 2.800e+01, 2.500e+01,\n",
       "       1.400e+01, 1.700e+01, 9.000e+00, 9.000e+00, 4.000e+00, 3.000e+00,\n",
       "       2.000e+00, 7.000e+00, 3.000e+00, 4.000e+00, 2.000e+00, 1.000e+00,\n",
       "       1.000e+00, 1.000e+00, 1.000e+00, 0.000e+00, 0.000e+00, 0.000e+00,\n",
       "       1.000e+00, 1.000e+00, 0.000e+00, 0.000e+00, 0.000e+00, 0.000e+00,\n",
       "       0.000e+00, 1.000e+00])"
      ]
     },
     "execution_count": 9,
     "metadata": {},
     "output_type": "execute_result"
    }
   ],
   "source": [
    "counts"
   ]
  },
  {
   "cell_type": "code",
   "execution_count": 10,
   "metadata": {},
   "outputs": [
    {
     "data": {
      "text/plain": [
       "[]"
      ]
     },
     "execution_count": 10,
     "metadata": {},
     "output_type": "execute_result"
    },
    {
     "data": {
      "image/png": "[encoded data removed]",
      "text/plain": [
       "<Figure size 432x288 with 1 Axes>"
      ]
     },
     "metadata": {
      "needs_background": "light"
     },
     "output_type": "display_data"
    }
   ],
   "source": [
    "counter = -1\n",
    "for value in counts:\n",
    "    counter=counter+1\n",
    "    if value == 0:\n",
    "        counts[counter]=1\n",
    "y=np.log10(counts)\n",
    "candidates=[]\n",
    "errorz=[]\n",
    "intercept = 0\n",
    "for intercept in range(0, 100):\n",
    "    for slope in range(-100,0):\n",
    "        candidates.append((float(intercept/100), (float(slope/100))))\n",
    "for candidate in candidates:\n",
    "    current_error=0.0\n",
    "    for cursor in range(50):\n",
    "        e=(candidate[0]+candidate[1]*x[cursor])-counts[cursor]\n",
    "        current_error+=(e*e)\n",
    "    errorz.append(current_error)  \n",
    "mymin=min(errorz)\n",
    "myparamsloc=errorz.index(mymin)\n",
    "myparams=candidates[myparamsloc]\n",
    "\n",
    "w_0 = myparams[0]\n",
    "w_1 = myparams[1]\n",
    "\n",
    "plt.plot(x,w_0 + w_1*x,'b-')\n",
    "X = np.linspace(mag.min(), mag.max(), 50)\n",
    "plt.xlabel(\"Magnitude\")\n",
    "plt.ylabel(\"Frequencies\")\n",
    "plt.title('US West Coast Earthquakes by Magnitude 1999-2019')\n",
    "plt.scatter(x, y)\n",
    "plt.plot()"
   ]
  },
  {
   "cell_type": "code",
   "execution_count": 11,
   "metadata": {},
   "outputs": [
    {
     "data": {
      "text/plain": [
       "50"
      ]
     },
     "execution_count": 11,
     "metadata": {},
     "output_type": "execute_result"
    }
   ],
   "source": [
    "len(y)\n"
   ]
  },
  {
   "cell_type": "code",
   "execution_count": 12,
   "metadata": {},
   "outputs": [
    {
     "data": {
      "text/plain": [
       "(0.99, -0.01)"
      ]
     },
     "execution_count": 12,
     "metadata": {},
     "output_type": "execute_result"
    }
   ],
   "source": [
    "myparams"
   ]
  },
  {
   "cell_type": "code",
   "execution_count": 13,
   "metadata": {},
   "outputs": [
    {
     "data": {
      "text/plain": [
       "array([4.031e+03, 3.074e+03, 2.490e+03, 2.070e+03, 1.814e+03, 1.404e+03,\n",
       "       9.520e+02, 7.760e+02, 6.260e+02, 5.140e+02, 5.240e+02, 3.640e+02,\n",
       "       2.270e+02, 1.850e+02, 1.920e+02, 1.620e+02, 1.120e+02, 1.130e+02,\n",
       "       7.900e+01, 5.800e+01, 5.000e+01, 4.800e+01, 2.800e+01, 2.500e+01,\n",
       "       1.400e+01, 1.700e+01, 9.000e+00, 9.000e+00, 4.000e+00, 3.000e+00,\n",
       "       2.000e+00, 7.000e+00, 3.000e+00, 4.000e+00, 2.000e+00, 1.000e+00,\n",
       "       1.000e+00, 1.000e+00, 1.000e+00, 1.000e+00, 1.000e+00, 1.000e+00,\n",
       "       1.000e+00, 1.000e+00, 1.000e+00, 1.000e+00, 1.000e+00, 1.000e+00,\n",
       "       1.000e+00, 1.000e+00])"
      ]
     },
     "execution_count": 13,
     "metadata": {},
     "output_type": "execute_result"
    }
   ],
   "source": [
    "counts"
   ]
  },
  {
   "cell_type": "code",
   "execution_count": 14,
   "metadata": {},
   "outputs": [
    {
     "ename": "NameError",
     "evalue": "name 'n' is not defined",
     "output_type": "error",
     "traceback": [
      "\u001b[1;31m---------------------------------------------------------------------------\u001b[0m",
      "\u001b[1;31mNameError\u001b[0m                                 Traceback (most recent call last)",
      "\u001b[1;32m<ipython-input-14-ab0680a89434>\u001b[0m in \u001b[0;36m<module>\u001b[1;34m\u001b[0m\n\u001b[1;32m----> 1\u001b[1;33m \u001b[0mn\u001b[0m\u001b[1;33m\u001b[0m\u001b[1;33m\u001b[0m\u001b[0m\n\u001b[0m",
      "\u001b[1;31mNameError\u001b[0m: name 'n' is not defined"
     ]
    }
   ],
   "source": [
    "n\n"
   ]
  },
  {
   "cell_type": "code",
   "execution_count": null,
   "metadata": {},
   "outputs": [],
   "source": []
  }
 ],
 "metadata": {
  "kernelspec": {
   "display_name": "Python 3",
   "language": "python",
   "name": "python3"
  },
  "language_info": {
   "codemirror_mode": {
    "name": "ipython",
    "version": 3
   },
   "file_extension": ".py",
   "mimetype": "text/x-python",
   "name": "python",
   "nbconvert_exporter": "python",
   "pygments_lexer": "ipython3",
   "version": "3.6.8"
  }
 },
 "nbformat": 4,
 "nbformat_minor": 2
}
